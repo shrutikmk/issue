{
 "cells": [
  {
   "cell_type": "markdown",
   "id": "9e085c8c",
   "metadata": {},
   "source": [
    "converts grafana output into natural language"
   ]
  },
  {
   "cell_type": "code",
   "execution_count": 1,
   "id": "886c9a72",
   "metadata": {},
   "outputs": [],
   "source": [
    "import json\n",
    "from datetime import datetime"
   ]
  },
  {
   "cell_type": "code",
   "execution_count": 2,
   "id": "8f1ebf9e",
   "metadata": {},
   "outputs": [],
   "source": [
    "def transform_metric_to_text(entry):\n",
    "    dt = datetime.fromisoformat(entry[\"timestamp\"]).strftime(\"%B %d, %Y at %H:%M UTC\")\n",
    "    text = (\n",
    "        f\"On {dt}, the {entry['component']} reported \"\n",
    "        f\"CPU usage at {entry['cpu_usage']}%, \"\n",
    "        f\"memory usage at {entry['memory_usage']}MB, \"\n",
    "        f\"HTTP latency of {entry['http_latency']}ms, \"\n",
    "        f\"and {entry['active_users']} active users.\"\n",
    "    )\n",
    "    return {\n",
    "        \"component\": entry[\"component\"],\n",
    "        \"timestamp\": entry[\"timestamp\"],\n",
    "        \"text_summary\": text\n",
    "    }"
   ]
  },
  {
   "cell_type": "code",
   "execution_count": 3,
   "id": "51e2cce7",
   "metadata": {},
   "outputs": [],
   "source": [
    "with open(\"grafana_metrics.json\") as f:\n",
    "    metrics = json.load(f)\n",
    "\n",
    "textual_metrics = [transform_metric_to_text(m) for m in metrics]"
   ]
  },
  {
   "cell_type": "code",
   "execution_count": 4,
   "id": "55121675",
   "metadata": {},
   "outputs": [],
   "source": [
    "with open(\"grafana_metrics_text.json\", \"w\") as f:\n",
    "    json.dump(textual_metrics, f, indent=2)"
   ]
  }
 ],
 "metadata": {
  "kernelspec": {
   "display_name": "base",
   "language": "python",
   "name": "python3"
  },
  "language_info": {
   "codemirror_mode": {
    "name": "ipython",
    "version": 3
   },
   "file_extension": ".py",
   "mimetype": "text/x-python",
   "name": "python",
   "nbconvert_exporter": "python",
   "pygments_lexer": "ipython3",
   "version": "3.12.2"
  }
 },
 "nbformat": 4,
 "nbformat_minor": 5
}
