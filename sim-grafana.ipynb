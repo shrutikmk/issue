{
 "cells": [
  {
   "cell_type": "markdown",
   "id": "f6a0fcf6",
   "metadata": {},
   "source": [
    "# Grafana Style Metric Generator\n",
    "Grafana is a tool that's used to monitor system in real time using numerical data. We're able to display these numerical statistics over time. The reason we simulate this data is to develop the issue tracker as if it's running in the real world where we would be able to see how these statistics change over time. \n",
    "We should be able to correlate the numerical trends with the issue logs we generated earlier, ideally. "
   ]
  },
  {
   "cell_type": "code",
   "execution_count": 1,
   "id": "787c350c",
   "metadata": {},
   "outputs": [],
   "source": [
    "# dependencies\n",
    "import json\n",
    "import random\n",
    "from datetime import datetime, timedelta"
   ]
  },
  {
   "cell_type": "code",
   "execution_count": 2,
   "id": "d0326414",
   "metadata": {},
   "outputs": [],
   "source": [
    "# components\n",
    "components = [\"auth-service\", \"frontend\", \"database\", \"payment-gateway\"]\n",
    "\n",
    "# metrics\n",
    "metrics = [\"cpu_usage\", \"memory_usage\", \"http_latency\", \"active_users\"]"
   ]
  },
  {
   "cell_type": "code",
   "execution_count": 3,
   "id": "4ea7851a",
   "metadata": {},
   "outputs": [],
   "source": [
    "# generate sample metrics\n",
    "def generate_metrics(component, start_time, num_points=24):\n",
    "    data = []\n",
    "    for i in range(num_points):\n",
    "        timestamp = start_time + timedelta(minutes=i*5)  # 5-minute intervals\n",
    "        point = {\n",
    "            \"component\": component,\n",
    "            \"timestamp\": timestamp.isoformat(),\n",
    "            \"cpu_usage\": round(random.uniform(10, 95), 2),\n",
    "            \"memory_usage\": random.randint(512, 8192),\n",
    "            \"http_latency\": random.randint(50, 900),  # in ms\n",
    "            \"active_users\": random.randint(0, 150)\n",
    "        }\n",
    "        data.append(point)\n",
    "    return data"
   ]
  },
  {
   "cell_type": "code",
   "execution_count": 4,
   "id": "77a118b9",
   "metadata": {},
   "outputs": [
    {
     "name": "stderr",
     "output_type": "stream",
     "text": [
      "/var/folders/67/zc39wmb54bx3kc4n_tyb3g3m0000gn/T/ipykernel_66381/1224999803.py:2: DeprecationWarning: datetime.datetime.utcnow() is deprecated and scheduled for removal in a future version. Use timezone-aware objects to represent datetimes in UTC: datetime.datetime.now(datetime.UTC).\n",
      "  start_time = datetime.utcnow() - timedelta(hours=2)\n"
     ]
    }
   ],
   "source": [
    "# create metrics for all the components\n",
    "start_time = datetime.utcnow() - timedelta(hours=2)\n",
    "all_metrics = []\n",
    "\n",
    "for component in components:\n",
    "    all_metrics.extend(generate_metrics(component, start_time))"
   ]
  },
  {
   "cell_type": "code",
   "execution_count": 5,
   "id": "2aba58d4",
   "metadata": {},
   "outputs": [],
   "source": [
    "# Save to JSON\n",
    "with open(\"grafana_metrics.json\", \"w\") as f:\n",
    "    json.dump(all_metrics, f, indent=2)"
   ]
  }
 ],
 "metadata": {
  "kernelspec": {
   "display_name": "base",
   "language": "python",
   "name": "python3"
  },
  "language_info": {
   "codemirror_mode": {
    "name": "ipython",
    "version": 3
   },
   "file_extension": ".py",
   "mimetype": "text/x-python",
   "name": "python",
   "nbconvert_exporter": "python",
   "pygments_lexer": "ipython3",
   "version": "3.12.2"
  }
 },
 "nbformat": 4,
 "nbformat_minor": 5
}
