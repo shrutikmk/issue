{
 "cells": [
  {
   "cell_type": "markdown",
   "id": "97efc6d4",
   "metadata": {},
   "source": [
    "store in faiss vector database"
   ]
  },
  {
   "cell_type": "code",
   "execution_count": 9,
   "id": "7bfa7f16",
   "metadata": {},
   "outputs": [],
   "source": [
    "import faiss\n",
    "import numpy as np\n",
    "import json"
   ]
  },
  {
   "cell_type": "code",
   "execution_count": 10,
   "id": "fb956fb5",
   "metadata": {},
   "outputs": [],
   "source": [
    "with open(\"log_chunks_with_embeddings.json\") as f:\n",
    "    data = json.load(f)"
   ]
  },
  {
   "cell_type": "code",
   "execution_count": 11,
   "id": "b0662818",
   "metadata": {},
   "outputs": [],
   "source": [
    "vectors = np.array([d[\"embedding\"] for d in data]).astype(\"float32\")\n",
    "metadata = [{k: v for k, v in d.items() if k != \"embedding\"} for d in data]"
   ]
  },
  {
   "cell_type": "code",
   "execution_count": 12,
   "id": "517def5e",
   "metadata": {},
   "outputs": [],
   "source": [
    "dim = vectors.shape[1]\n",
    "index = faiss.IndexFlatL2(dim)\n",
    "index.add(vectors)"
   ]
  },
  {
   "cell_type": "code",
   "execution_count": 13,
   "id": "892e04d1",
   "metadata": {},
   "outputs": [
    {
     "name": "stdout",
     "output_type": "stream",
     "text": [
      "✅ Stored 39 embeddings into FAISS index.\n"
     ]
    }
   ],
   "source": [
    "faiss.write_index(index, \"logs_faiss.index\")\n",
    "with open(\"logs_faiss_metadata.json\", \"w\") as f:\n",
    "    json.dump(metadata, f, indent=2)\n",
    "\n",
    "print(f\"✅ Stored {len(vectors)} embeddings into FAISS index.\")"
   ]
  },
  {
   "cell_type": "code",
   "execution_count": 14,
   "id": "d096e3fb",
   "metadata": {},
   "outputs": [
    {
     "name": "stdout",
     "output_type": "stream",
     "text": [
      "✅ Stored 96 embeddings into FAISS index.\n"
     ]
    }
   ],
   "source": [
    "with open(\"graf_chunks_with_embeddings.json\") as f:\n",
    "    data = json.load(f)\n",
    "\n",
    "vectors = np.array([d[\"embedding\"] for d in data]).astype(\"float32\")\n",
    "metadata = [{k: v for k, v in d.items() if k != \"embedding\"} for d in data]\n",
    "\n",
    "dim = vectors.shape[1]\n",
    "index = faiss.IndexFlatL2(dim)\n",
    "index.add(vectors)\n",
    "\n",
    "faiss.write_index(index, \"logs_faiss.index\")\n",
    "with open(\"logs_faiss_metadata.json\", \"w\") as f:\n",
    "    json.dump(metadata, f, indent=2)\n",
    "\n",
    "print(f\"✅ Stored {len(vectors)} embeddings into FAISS index.\")"
   ]
  },
  {
   "cell_type": "code",
   "execution_count": 15,
   "id": "8de1d252",
   "metadata": {},
   "outputs": [
    {
     "name": "stdout",
     "output_type": "stream",
     "text": [
      "✅ Stored 21 embeddings into FAISS index.\n"
     ]
    }
   ],
   "source": [
    "with open(\"rag_chunks_with_embeddings.json\") as f:\n",
    "    data = json.load(f)\n",
    "\n",
    "vectors = np.array([d[\"embedding\"] for d in data]).astype(\"float32\")\n",
    "metadata = [{k: v for k, v in d.items() if k != \"embedding\"} for d in data]\n",
    "\n",
    "dim = vectors.shape[1]\n",
    "index = faiss.IndexFlatL2(dim)\n",
    "index.add(vectors)\n",
    "\n",
    "faiss.write_index(index, \"logs_faiss.index\")\n",
    "with open(\"logs_faiss_metadata.json\", \"w\") as f:\n",
    "    json.dump(metadata, f, indent=2)\n",
    "\n",
    "print(f\"✅ Stored {len(vectors)} embeddings into FAISS index.\")"
   ]
  }
 ],
 "metadata": {
  "kernelspec": {
   "display_name": "base",
   "language": "python",
   "name": "python3"
  },
  "language_info": {
   "codemirror_mode": {
    "name": "ipython",
    "version": 3
   },
   "file_extension": ".py",
   "mimetype": "text/x-python",
   "name": "python",
   "nbconvert_exporter": "python",
   "pygments_lexer": "ipython3",
   "version": "3.12.2"
  }
 },
 "nbformat": 4,
 "nbformat_minor": 5
}
