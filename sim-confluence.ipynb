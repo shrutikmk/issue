{
 "cells": [
  {
   "cell_type": "markdown",
   "id": "abfcd370",
   "metadata": {},
   "source": [
    "# Confluence Doc Simulator\n",
    "We need to create a textual knowledge base that could work with our sample issues. Confluence is a database of documents that are usually meant for company workers to refer to when trying to get past an issue. Of course because our issues are simulations, we similarly simulate these docs but in a real setting would likely be working with more detailed documents. "
   ]
  },
  {
   "cell_type": "code",
   "execution_count": 1,
   "id": "1110d306",
   "metadata": {},
   "outputs": [],
   "source": [
    "# dependencies\n",
    "import json\n",
    "import random\n",
    "from datetime import datetime, timedelta\n",
    "from faker import Faker"
   ]
  },
  {
   "cell_type": "code",
   "execution_count": 2,
   "id": "f4d5e3b7",
   "metadata": {},
   "outputs": [],
   "source": [
    "fake = Faker()"
   ]
  },
  {
   "cell_type": "code",
   "execution_count": 4,
   "id": "b32f4194",
   "metadata": {},
   "outputs": [],
   "source": [
    "# sample/random titles and tags\n",
    "titles = [\n",
    "    \"How to restart the auth service\",\n",
    "    \"Understanding common database failures\",\n",
    "    \"Troubleshooting high CPU usage\",\n",
    "    \"Monitoring best practices\",\n",
    "    \"ElasticSearch indexing FAQ\",\n",
    "    \"Frontend error handling guide\",\n",
    "    \"Token expiration issue resolution\",\n",
    "    \"Scaling strategies for microservices\"\n",
    "]\n",
    "\n",
    "tags_pool = [\"troubleshooting\", \"monitoring\", \"backend\", \"frontend\", \"alerts\", \"faq\", \"guide\", \"infrastructure\"]"
   ]
  },
  {
   "cell_type": "code",
   "execution_count": 5,
   "id": "5661dfb5",
   "metadata": {},
   "outputs": [],
   "source": [
    "# create json template/generate docs in json\n",
    "def generate_doc(title):\n",
    "    return {\n",
    "        \"title\": title,\n",
    "        \"body\": \"\\n\\n\".join(fake.paragraphs(nb=random.randint(2, 4))),\n",
    "        \"tags\": random.sample(tags_pool, 3),\n",
    "        \"author\": fake.user_name(),\n",
    "        \"last_updated\": (datetime.utcnow() - timedelta(days=random.randint(0, 60))).isoformat()\n",
    "    }"
   ]
  },
  {
   "cell_type": "code",
   "execution_count": 6,
   "id": "b0131b6a",
   "metadata": {},
   "outputs": [
    {
     "name": "stderr",
     "output_type": "stream",
     "text": [
      "/var/folders/67/zc39wmb54bx3kc4n_tyb3g3m0000gn/T/ipykernel_68470/2375466025.py:8: DeprecationWarning: datetime.datetime.utcnow() is deprecated and scheduled for removal in a future version. Use timezone-aware objects to represent datetimes in UTC: datetime.datetime.now(datetime.UTC).\n",
      "  \"last_updated\": (datetime.utcnow() - timedelta(days=random.randint(0, 60))).isoformat()\n"
     ]
    }
   ],
   "source": [
    "# generate and save\n",
    "docs = [generate_doc(title) for title in titles]\n",
    "\n",
    "with open(\"confluence_docs.json\", \"w\") as f:\n",
    "    json.dump(docs, f, indent=2)"
   ]
  }
 ],
 "metadata": {
  "kernelspec": {
   "display_name": "base",
   "language": "python",
   "name": "python3"
  },
  "language_info": {
   "codemirror_mode": {
    "name": "ipython",
    "version": 3
   },
   "file_extension": ".py",
   "mimetype": "text/x-python",
   "name": "python",
   "nbconvert_exporter": "python",
   "pygments_lexer": "ipython3",
   "version": "3.12.2"
  }
 },
 "nbformat": 4,
 "nbformat_minor": 5
}
