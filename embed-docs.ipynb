{
 "cells": [
  {
   "cell_type": "markdown",
   "id": "13a0547a",
   "metadata": {},
   "source": [
    "Tokenize and embed documents using transformer models"
   ]
  },
  {
   "cell_type": "code",
   "execution_count": 1,
   "id": "03bcac87",
   "metadata": {},
   "outputs": [],
   "source": [
    "from sentence_transformers import SentenceTransformer\n",
    "import json"
   ]
  },
  {
   "cell_type": "code",
   "execution_count": 2,
   "id": "afe22f5e",
   "metadata": {},
   "outputs": [
    {
     "data": {
      "application/vnd.jupyter.widget-view+json": {
       "model_id": "f51e40798750477b8c9576da3a476aeb",
       "version_major": 2,
       "version_minor": 0
      },
      "text/plain": [
       "README.md:   0%|          | 0.00/10.5k [00:00<?, ?B/s]"
      ]
     },
     "metadata": {},
     "output_type": "display_data"
    },
    {
     "name": "stderr",
     "output_type": "stream",
     "text": [
      "/Users/shrutikmk/miniconda3/lib/python3.12/site-packages/huggingface_hub/file_download.py:1132: FutureWarning: `resume_download` is deprecated and will be removed in version 1.0.0. Downloads always resume when possible. If you want to force a new download, use `force_download=True`.\n",
      "  warnings.warn(\n",
      "/Users/shrutikmk/miniconda3/lib/python3.12/site-packages/huggingface_hub/file_download.py:1132: FutureWarning: `resume_download` is deprecated and will be removed in version 1.0.0. Downloads always resume when possible. If you want to force a new download, use `force_download=True`.\n",
      "  warnings.warn(\n"
     ]
    }
   ],
   "source": [
    "model = SentenceTransformer('all-MiniLM-L6-v2')"
   ]
  },
  {
   "cell_type": "code",
   "execution_count": 3,
   "id": "c9b12d89",
   "metadata": {},
   "outputs": [],
   "source": [
    "with open(\"log_chunks_for_embedding.json\") as f:\n",
    "    data = json.load(f)"
   ]
  },
  {
   "cell_type": "code",
   "execution_count": 4,
   "id": "eddb0510",
   "metadata": {},
   "outputs": [],
   "source": [
    "for entry in data:\n",
    "    text = entry.get(\"clean_log_text\", entry.get(\"body_chunk\", entry.get(\"text_summary\")))\n",
    "    embedding = model.encode(text, convert_to_numpy=True)\n",
    "    entry[\"embedding\"] = embedding.tolist()"
   ]
  },
  {
   "cell_type": "code",
   "execution_count": 5,
   "id": "e00ddc33",
   "metadata": {},
   "outputs": [],
   "source": [
    "with open(\"log_chunks_with_embeddings.json\", \"w\") as f:\n",
    "    json.dump(data, f, indent=2)"
   ]
  },
  {
   "cell_type": "code",
   "execution_count": 6,
   "id": "6690d880",
   "metadata": {},
   "outputs": [],
   "source": [
    "with open(\"grafana_metrics_text.json\") as f:\n",
    "    data = json.load(f)"
   ]
  },
  {
   "cell_type": "code",
   "execution_count": 7,
   "id": "0a31865d",
   "metadata": {},
   "outputs": [],
   "source": [
    "for entry in data:\n",
    "    text = entry.get(\"clean_log_text\", entry.get(\"body_chunk\", entry.get(\"text_summary\")))\n",
    "    embedding = model.encode(text, convert_to_numpy=True)\n",
    "    entry[\"embedding\"] = embedding.tolist()"
   ]
  },
  {
   "cell_type": "code",
   "execution_count": 8,
   "id": "e5be2d63",
   "metadata": {},
   "outputs": [],
   "source": [
    "with open(\"graf_chunks_with_embeddings.json\", \"w\") as f:\n",
    "    json.dump(data, f, indent=2)"
   ]
  },
  {
   "cell_type": "code",
   "execution_count": 9,
   "id": "270525bf",
   "metadata": {},
   "outputs": [],
   "source": [
    "with open(\"rag_chunks.json\") as f:\n",
    "    data = json.load(f)"
   ]
  },
  {
   "cell_type": "code",
   "execution_count": 10,
   "id": "8bc833af",
   "metadata": {},
   "outputs": [],
   "source": [
    "for entry in data:\n",
    "    text = entry.get(\"clean_log_text\", entry.get(\"body_chunk\", entry.get(\"text_summary\")))\n",
    "    embedding = model.encode(text, convert_to_numpy=True)\n",
    "    entry[\"embedding\"] = embedding.tolist()"
   ]
  },
  {
   "cell_type": "code",
   "execution_count": 11,
   "id": "c358de82",
   "metadata": {},
   "outputs": [],
   "source": [
    "with open(\"rag_chunks_with_embeddings.json\", \"w\") as f:\n",
    "    json.dump(data, f, indent=2)"
   ]
  }
 ],
 "metadata": {
  "kernelspec": {
   "display_name": "base",
   "language": "python",
   "name": "python3"
  },
  "language_info": {
   "codemirror_mode": {
    "name": "ipython",
    "version": 3
   },
   "file_extension": ".py",
   "mimetype": "text/x-python",
   "name": "python",
   "nbconvert_exporter": "python",
   "pygments_lexer": "ipython3",
   "version": "3.12.2"
  }
 },
 "nbformat": 4,
 "nbformat_minor": 5
}
