{
 "cells": [
  {
   "cell_type": "markdown",
   "id": "71264b75",
   "metadata": {},
   "source": [
    "# Error Log Simulator\n",
    "\n",
    "In this issue tracker, we need data to test, debug and demo the product. The below Python code is meant to produce some sort of samples for us to work with for this proof of concept. "
   ]
  },
  {
   "cell_type": "code",
   "execution_count": 1,
   "id": "076c242b",
   "metadata": {},
   "outputs": [],
   "source": [
    "# Dependencies\n",
    "import json\n",
    "import random\n",
    "from datetime import datetime, timedelta\n",
    "from faker import Faker"
   ]
  },
  {
   "cell_type": "code",
   "execution_count": 2,
   "id": "97b346fd",
   "metadata": {},
   "outputs": [
    {
     "data": {
      "text/plain": [
       "'\\n{\\n    \"id\": \"string\",\\n    \"timestamp\": \"datetime\",\\n    \"severity\": [\"info\", \"warning\", \"error\", \"critical\"],\\n    \"component\": \"string\",\\n    \"description\": \"string\",\\n    \"logs\": [\"string\"],\\n    \"diagnostics\": {\\n      \"cpu_usage\": \"number\",\\n      \"memory_mb\": \"number\"\\n    },\\n    \"status\": [\"open\", \"in_progress\", \"resolved\"],\\n\\n    \"assigned_to\": \"string\",\\n    \"tags\": [\"string\"],\\n    \"related_issues\": [\"string\"],\\n    \"resolved_notes\": \"string\",\\n    \"last_updated\": \"datetime\",\\n    \"priority\": [\"low\", \"medium\", \"high\"],\\n    \"environment\": {\\n      \"os\": \"string\",\\n      \"version\": \"string\",\\n      \"region\": \"string\"\\n    }\\n  }\\n'"
      ]
     },
     "execution_count": 2,
     "metadata": {},
     "output_type": "execute_result"
    }
   ],
   "source": [
    "# Schema JSON\n",
    "'''\n",
    "{\n",
    "    \"id\": \"string\",\n",
    "    \"timestamp\": \"datetime\",\n",
    "    \"severity\": [\"info\", \"warning\", \"error\", \"critical\"],\n",
    "    \"component\": \"string\",\n",
    "    \"description\": \"string\",\n",
    "    \"logs\": [\"string\"],\n",
    "    \"diagnostics\": {\n",
    "      \"cpu_usage\": \"number\",\n",
    "      \"memory_mb\": \"number\"\n",
    "    },\n",
    "    \"status\": [\"open\", \"in_progress\", \"resolved\"],\n",
    "\n",
    "    \"assigned_to\": \"string\",\n",
    "    \"tags\": [\"string\"],\n",
    "    \"related_issues\": [\"string\"],\n",
    "    \"resolved_notes\": \"string\",\n",
    "    \"last_updated\": \"datetime\",\n",
    "    \"priority\": [\"low\", \"medium\", \"high\"],\n",
    "    \"environment\": {\n",
    "      \"os\": \"string\",\n",
    "      \"version\": \"string\",\n",
    "      \"region\": \"string\"\n",
    "    }\n",
    "  }\n",
    "'''"
   ]
  },
  {
   "cell_type": "code",
   "execution_count": 3,
   "id": "fad2e08f",
   "metadata": {},
   "outputs": [],
   "source": [
    "fake = Faker()"
   ]
  },
  {
   "cell_type": "code",
   "execution_count": 6,
   "id": "8235cc76",
   "metadata": {},
   "outputs": [],
   "source": [
    "# define variables for the possible values of the schema as they are given \n",
    "severities = [\"info\", \"warning\", \"error\", \"critical\"]\n",
    "statuses = [\"open\", \"in_progress\", \"resolved\"]\n",
    "priorities = [\"low\", \"medium\", \"high\"]\n",
    "\n",
    "# come up with potential example entries for these sections on the schema\n",
    "components = [\"auth-service\", \"database\", \"frontend\", \"payment-gateway\", \"logger\"]"
   ]
  },
  {
   "cell_type": "code",
   "execution_count": 7,
   "id": "68b02573",
   "metadata": {},
   "outputs": [],
   "source": [
    "# sample logs we could find in a system\n",
    "log_templates = [\n",
    "    \"User {user_id} failed login attempt.\",\n",
    "    \"Service {component} responded with status 500.\",\n",
    "    \"Token expired for session {session_id}.\",\n",
    "    \"Memory usage at {memory}MB exceeded threshold.\",\n",
    "    \"CPU usage spike to {cpu}%.\",\n",
    "    \"Error in {component}: {message}\"\n",
    "]"
   ]
  },
  {
   "cell_type": "code",
   "execution_count": 8,
   "id": "67d79538",
   "metadata": {},
   "outputs": [],
   "source": [
    "# create function to output error log aligning with our template\n",
    "def generate_issue(issue_id):\n",
    "    now = datetime.utcnow()\n",
    "    logs = []\n",
    "\n",
    "    for _ in range(random.randint(3, 6)):\n",
    "        template = random.choice(log_templates)\n",
    "        log_line = template.format(\n",
    "            user_id=random.randint(1000, 9999),\n",
    "            session_id=fake.uuid4()[:8],\n",
    "            memory=random.randint(200, 16000),\n",
    "            cpu=round(random.uniform(10, 99), 2),\n",
    "            component=random.choice(components),\n",
    "            message=fake.sentence(nb_words=5)\n",
    "        )\n",
    "        logs.append(log_line)\n",
    "\n",
    "    return {\n",
    "        \"id\": f\"ISSUE-{issue_id:03}\",\n",
    "        \"timestamp\": now.isoformat(),\n",
    "        \"severity\": random.choice(severities),\n",
    "        \"component\": random.choice(components),\n",
    "        \"description\": fake.sentence(nb_words=10),\n",
    "        \"logs\": logs,\n",
    "        \"diagnostics\": {\n",
    "            \"cpu_usage\": round(random.uniform(10, 90), 2),\n",
    "            \"memory_mb\": random.randint(256, 8192)\n",
    "        },\n",
    "        \"status\": random.choice(statuses),\n",
    "        \"assigned_to\": fake.user_name(),\n",
    "        \"tags\": random.sample([\"login\", \"network\", \"timeout\", \"db\", \"performance\", \"API\"], 2),\n",
    "        \"related_issues\": [f\"ISSUE-{random.randint(1, 20):03}\" for _ in range(2)],\n",
    "        \"resolved_notes\": fake.sentence(nb_words=12),\n",
    "        \"last_updated\": now.isoformat(),\n",
    "        \"priority\": random.choice(priorities),\n",
    "        \"environment\": {\n",
    "            \"os\": random.choice([\"Ubuntu\", \"Windows\", \"macOS\"]),\n",
    "            \"version\": f\"{random.randint(1, 10)}.{random.randint(0, 9)}.{random.randint(0, 99)}\",\n",
    "            \"region\": random.choice([\"us-east-1\", \"eu-west-2\", \"ap-southeast-1\"])\n",
    "        }\n",
    "    }"
   ]
  },
  {
   "cell_type": "code",
   "execution_count": 9,
   "id": "93d351cb",
   "metadata": {},
   "outputs": [
    {
     "name": "stderr",
     "output_type": "stream",
     "text": [
      "/var/folders/67/zc39wmb54bx3kc4n_tyb3g3m0000gn/T/ipykernel_59127/2555759232.py:3: DeprecationWarning: datetime.datetime.utcnow() is deprecated and scheduled for removal in a future version. Use timezone-aware objects to represent datetimes in UTC: datetime.datetime.now(datetime.UTC).\n",
      "  now = datetime.utcnow()\n"
     ]
    }
   ],
   "source": [
    "# generate 10 sample issues\n",
    "issues = [generate_issue(i) for i in range(1, 11)]"
   ]
  },
  {
   "cell_type": "code",
   "execution_count": 10,
   "id": "9358547f",
   "metadata": {},
   "outputs": [],
   "source": [
    "# save it as json \n",
    "with open(\"simulated_issues.json\", \"w\") as f:\n",
    "    json.dump(issues, f, indent=2)"
   ]
  }
 ],
 "metadata": {
  "kernelspec": {
   "display_name": "base",
   "language": "python",
   "name": "python3"
  },
  "language_info": {
   "codemirror_mode": {
    "name": "ipython",
    "version": 3
   },
   "file_extension": ".py",
   "mimetype": "text/x-python",
   "name": "python",
   "nbconvert_exporter": "python",
   "pygments_lexer": "ipython3",
   "version": "3.12.2"
  }
 },
 "nbformat": 4,
 "nbformat_minor": 5
}
