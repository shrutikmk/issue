{
 "cells": [
  {
   "cell_type": "markdown",
   "id": "19842186",
   "metadata": {},
   "source": [
    "preprocesses the logs for chunking and embedding"
   ]
  },
  {
   "cell_type": "code",
   "execution_count": 4,
   "id": "64463e79",
   "metadata": {},
   "outputs": [],
   "source": [
    "import json\n",
    "import uuid\n",
    "import re"
   ]
  },
  {
   "cell_type": "code",
   "execution_count": 2,
   "id": "af4a1974",
   "metadata": {},
   "outputs": [],
   "source": [
    "with open(\"simulated_issues.json\") as f:\n",
    "    issues = json.load(f)"
   ]
  },
  {
   "cell_type": "code",
   "execution_count": 3,
   "id": "ca16341a",
   "metadata": {},
   "outputs": [],
   "source": [
    "log_chunks = []\n",
    "\n",
    "for issue in issues:\n",
    "    issue_id = issue['id']\n",
    "    severity = issue['severity']\n",
    "    component = issue['component']\n",
    "    timestamp = issue['timestamp']\n",
    "\n",
    "    for i, log_line in enumerate(issue['logs']):\n",
    "        chunk_id = f'{issue_id}_log_{i}'\n",
    "        log_chunks.append({\n",
    "            \"chunk_id\": chunk_id,\n",
    "            \"issue_id\": issue_id,\n",
    "            \"timestamp\": timestamp,\n",
    "            \"component\": component,\n",
    "            \"severity\": severity,\n",
    "            \"log_text\": log_line.strip()\n",
    "        })"
   ]
  },
  {
   "cell_type": "code",
   "execution_count": 5,
   "id": "11e8bf5b",
   "metadata": {},
   "outputs": [],
   "source": [
    "def clean_log(text):\n",
    "    text = re.sub(r\"\\d{4}-\\d{2}-\\d{2}T\\d{2}:\\d{2}:\\d{2}Z\", \"\", text)\n",
    "    text = re.sub(r\"\\s+\", \" \", text).strip()\n",
    "    return text"
   ]
  },
  {
   "cell_type": "code",
   "execution_count": 6,
   "id": "18e0b202",
   "metadata": {},
   "outputs": [],
   "source": [
    "for log in log_chunks:\n",
    "    log[\"clean_log_text\"] = clean_log(log['log_text'])"
   ]
  },
  {
   "cell_type": "code",
   "execution_count": 7,
   "id": "7007b58a",
   "metadata": {},
   "outputs": [],
   "source": [
    "with open(\"log_chunks_for_embedding.json\", \"w\") as f:\n",
    "    json.dump(log_chunks, f, indent=2)"
   ]
  }
 ],
 "metadata": {
  "kernelspec": {
   "display_name": "base",
   "language": "python",
   "name": "python3"
  },
  "language_info": {
   "codemirror_mode": {
    "name": "ipython",
    "version": 3
   },
   "file_extension": ".py",
   "mimetype": "text/x-python",
   "name": "python",
   "nbconvert_exporter": "python",
   "pygments_lexer": "ipython3",
   "version": "3.12.2"
  }
 },
 "nbformat": 4,
 "nbformat_minor": 5
}
