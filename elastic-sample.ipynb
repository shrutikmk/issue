{
 "cells": [
  {
   "cell_type": "markdown",
   "id": "4d852e1b",
   "metadata": {},
   "source": [
    "# Elastic Search\n",
    "\n",
    "A sample of indexing and searching our generated json files"
   ]
  },
  {
   "cell_type": "code",
   "execution_count": 1,
   "id": "3e121456",
   "metadata": {},
   "outputs": [],
   "source": [
    "from elasticsearch import Elasticsearch\n",
    "import json"
   ]
  },
  {
   "cell_type": "code",
   "execution_count": 2,
   "id": "a759e13b",
   "metadata": {},
   "outputs": [],
   "source": [
    "es = Elasticsearch(\"http://localhost:9200\")"
   ]
  },
  {
   "cell_type": "code",
   "execution_count": 4,
   "id": "7ec94762",
   "metadata": {},
   "outputs": [],
   "source": [
    "def load_and_index(file_path, index_name):\n",
    "    with open(file_path, \"r\") as f:\n",
    "        docs = json.load(f)\n",
    "    for doc in docs:\n",
    "        es.index(index=index_name, document=doc)\n",
    "    print(f\"✅ Indexed {len(docs)} docs into '{index_name}'\")"
   ]
  },
  {
   "cell_type": "code",
   "execution_count": 5,
   "id": "fae2a431",
   "metadata": {},
   "outputs": [
    {
     "name": "stderr",
     "output_type": "stream",
     "text": [
      "/var/folders/67/zc39wmb54bx3kc4n_tyb3g3m0000gn/T/ipykernel_92711/650560369.py:5: ElasticsearchWarning: Elasticsearch built-in security features are not enabled. Without authentication, your cluster could be accessible to anyone. See https://www.elastic.co/guide/en/elasticsearch/reference/7.17/security-minimal-setup.html to enable security.\n",
      "  es.index(index=index_name, document=doc)\n"
     ]
    },
    {
     "name": "stdout",
     "output_type": "stream",
     "text": [
      "✅ Indexed 10 docs into 'issues'\n",
      "✅ Indexed 96 docs into 'metrics'\n",
      "✅ Indexed 8 docs into 'docs'\n"
     ]
    }
   ],
   "source": [
    "load_and_index(\"simulated_issues.json\", \"issues\")\n",
    "load_and_index(\"grafana_metrics.json\", \"metrics\")\n",
    "load_and_index(\"confluence_docs.json\", \"docs\")"
   ]
  },
  {
   "cell_type": "code",
   "execution_count": 6,
   "id": "ad354f90",
   "metadata": {},
   "outputs": [
    {
     "name": "stdout",
     "output_type": "stream",
     "text": [
      "{'_index': 'issues', '_type': '_doc', '_id': '3vMMF5YBOnTznT22o8lu', '_score': 1.1727202, '_source': {'id': 'ISSUE-003', 'timestamp': '2025-04-07T07:14:37.713423', 'severity': 'error', 'component': 'payment-gateway', 'description': 'Body not compare run deal town maintain he maintain me.', 'logs': ['CPU usage spike to 26.08%.', 'Memory usage at 8056MB exceeded threshold.', 'CPU usage spike to 79.45%.', 'CPU usage spike to 42.37%.', 'Error in database: Southern raise fear agree player.'], 'diagnostics': {'cpu_usage': 89.46, 'memory_mb': 5588}, 'status': 'open', 'assigned_to': 'njohnson', 'tags': ['performance', 'API'], 'related_issues': ['ISSUE-012', 'ISSUE-008'], 'resolved_notes': 'Forget general team of stand member analysis religious many television.', 'last_updated': '2025-04-07T07:14:37.713423', 'priority': 'low', 'environment': {'os': 'macOS', 'version': '8.4.19', 'region': 'ap-southeast-1'}}}\n"
     ]
    },
    {
     "name": "stderr",
     "output_type": "stream",
     "text": [
      "/var/folders/67/zc39wmb54bx3kc4n_tyb3g3m0000gn/T/ipykernel_92711/1644934695.py:2: ElasticsearchWarning: Elasticsearch built-in security features are not enabled. Without authentication, your cluster could be accessible to anyone. See https://www.elastic.co/guide/en/elasticsearch/reference/7.17/security-minimal-setup.html to enable security.\n",
      "  res = es.search(index=\"issues\", query={\"match\": {\"severity\": \"error\"}})\n"
     ]
    }
   ],
   "source": [
    "# search\n",
    "res = es.search(index=\"issues\", query={\"match\": {\"severity\": \"error\"}})\n",
    "print(res[\"hits\"][\"hits\"][0])"
   ]
  },
  {
   "cell_type": "code",
   "execution_count": 7,
   "id": "76a84586",
   "metadata": {},
   "outputs": [
    {
     "name": "stdout",
     "output_type": "stream",
     "text": [
      "Issues: 20\n",
      "Metrics: 96\n",
      "Docs: 8\n"
     ]
    },
    {
     "name": "stderr",
     "output_type": "stream",
     "text": [
      "/var/folders/67/zc39wmb54bx3kc4n_tyb3g3m0000gn/T/ipykernel_92711/2439527597.py:2: ElasticsearchWarning: Elasticsearch built-in security features are not enabled. Without authentication, your cluster could be accessible to anyone. See https://www.elastic.co/guide/en/elasticsearch/reference/7.17/security-minimal-setup.html to enable security.\n",
      "  print(\"Issues:\", es.count(index=\"issues\")[\"count\"])\n",
      "/var/folders/67/zc39wmb54bx3kc4n_tyb3g3m0000gn/T/ipykernel_92711/2439527597.py:3: ElasticsearchWarning: Elasticsearch built-in security features are not enabled. Without authentication, your cluster could be accessible to anyone. See https://www.elastic.co/guide/en/elasticsearch/reference/7.17/security-minimal-setup.html to enable security.\n",
      "  print(\"Metrics:\", es.count(index=\"metrics\")[\"count\"])\n",
      "/var/folders/67/zc39wmb54bx3kc4n_tyb3g3m0000gn/T/ipykernel_92711/2439527597.py:4: ElasticsearchWarning: Elasticsearch built-in security features are not enabled. Without authentication, your cluster could be accessible to anyone. See https://www.elastic.co/guide/en/elasticsearch/reference/7.17/security-minimal-setup.html to enable security.\n",
      "  print(\"Docs:\", es.count(index=\"docs\")[\"count\"])\n"
     ]
    }
   ],
   "source": [
    "# verify population\n",
    "print(\"Issues:\", es.count(index=\"issues\")[\"count\"])\n",
    "print(\"Metrics:\", es.count(index=\"metrics\")[\"count\"])\n",
    "print(\"Docs:\", es.count(index=\"docs\")[\"count\"])"
   ]
  },
  {
   "cell_type": "code",
   "execution_count": 8,
   "id": "4c719568",
   "metadata": {},
   "outputs": [
    {
     "name": "stdout",
     "output_type": "stream",
     "text": [
      "ISSUE-002 ['db', 'timeout']\n",
      "ISSUE-004 ['timeout', 'API']\n",
      "ISSUE-005 ['performance', 'timeout']\n",
      "ISSUE-007 ['timeout', 'login']\n",
      "ISSUE-008 ['timeout', 'login']\n",
      "ISSUE-002 ['db', 'timeout']\n",
      "ISSUE-004 ['timeout', 'API']\n",
      "ISSUE-005 ['performance', 'timeout']\n",
      "ISSUE-007 ['timeout', 'login']\n",
      "ISSUE-008 ['timeout', 'login']\n"
     ]
    },
    {
     "name": "stderr",
     "output_type": "stream",
     "text": [
      "/var/folders/67/zc39wmb54bx3kc4n_tyb3g3m0000gn/T/ipykernel_92711/1782921149.py:2: ElasticsearchWarning: Elasticsearch built-in security features are not enabled. Without authentication, your cluster could be accessible to anyone. See https://www.elastic.co/guide/en/elasticsearch/reference/7.17/security-minimal-setup.html to enable security.\n",
      "  res = es.search(index=\"issues\", query={\"match\": {\"tags\": \"timeout\"}})\n"
     ]
    }
   ],
   "source": [
    "# test queries\n",
    "res = es.search(index=\"issues\", query={\"match\": {\"tags\": \"timeout\"}})\n",
    "for r in res[\"hits\"][\"hits\"]:\n",
    "    print(r[\"_source\"][\"id\"], r[\"_source\"][\"tags\"])"
   ]
  },
  {
   "cell_type": "code",
   "execution_count": 9,
   "id": "0c1ce6c1",
   "metadata": {},
   "outputs": [
    {
     "name": "stdout",
     "output_type": "stream",
     "text": [
      "88.63 2025-04-07T06:52:43.506447\n",
      "80.08 2025-04-07T06:57:43.506447\n",
      "88.01 2025-04-07T07:27:43.506447\n",
      "88.3 2025-04-07T07:42:43.506447\n"
     ]
    },
    {
     "name": "stderr",
     "output_type": "stream",
     "text": [
      "/var/folders/67/zc39wmb54bx3kc4n_tyb3g3m0000gn/T/ipykernel_92711/657275160.py:1: ElasticsearchWarning: Elasticsearch built-in security features are not enabled. Without authentication, your cluster could be accessible to anyone. See https://www.elastic.co/guide/en/elasticsearch/reference/7.17/security-minimal-setup.html to enable security.\n",
      "  res = es.search(index=\"metrics\", query={\n"
     ]
    }
   ],
   "source": [
    "res = es.search(index=\"metrics\", query={\n",
    "    \"bool\": {\n",
    "        \"must\": [\n",
    "            {\"match\": {\"component\": \"frontend\"}},\n",
    "            {\"range\": {\"cpu_usage\": {\"gt\": 80}}}\n",
    "        ]\n",
    "    }\n",
    "})\n",
    "for r in res[\"hits\"][\"hits\"]:\n",
    "    print(r[\"_source\"][\"cpu_usage\"], r[\"_source\"][\"timestamp\"])"
   ]
  },
  {
   "cell_type": "code",
   "execution_count": 10,
   "id": "73559f28",
   "metadata": {},
   "outputs": [
    {
     "name": "stdout",
     "output_type": "stream",
     "text": [
      "ElasticSearch indexing FAQ ['frontend', 'monitoring', 'infrastructure']\n",
      "Frontend error handling guide ['infrastructure', 'monitoring', 'frontend']\n",
      "Scaling strategies for microservices ['monitoring', 'infrastructure', 'faq']\n"
     ]
    },
    {
     "name": "stderr",
     "output_type": "stream",
     "text": [
      "/var/folders/67/zc39wmb54bx3kc4n_tyb3g3m0000gn/T/ipykernel_92711/2690743315.py:1: ElasticsearchWarning: Elasticsearch built-in security features are not enabled. Without authentication, your cluster could be accessible to anyone. See https://www.elastic.co/guide/en/elasticsearch/reference/7.17/security-minimal-setup.html to enable security.\n",
      "  res = es.search(index=\"docs\", query={\"match\": {\"tags\": \"monitoring\"}})\n"
     ]
    }
   ],
   "source": [
    "res = es.search(index=\"docs\", query={\"match\": {\"tags\": \"monitoring\"}})\n",
    "for r in res[\"hits\"][\"hits\"]:\n",
    "    print(r[\"_source\"][\"title\"], r[\"_source\"][\"tags\"])"
   ]
  }
 ],
 "metadata": {
  "kernelspec": {
   "display_name": "base",
   "language": "python",
   "name": "python3"
  },
  "language_info": {
   "codemirror_mode": {
    "name": "ipython",
    "version": 3
   },
   "file_extension": ".py",
   "mimetype": "text/x-python",
   "name": "python",
   "nbconvert_exporter": "python",
   "pygments_lexer": "ipython3",
   "version": "3.12.2"
  }
 },
 "nbformat": 4,
 "nbformat_minor": 5
}
