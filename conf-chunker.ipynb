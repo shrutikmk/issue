{
 "cells": [
  {
   "cell_type": "markdown",
   "id": "bf5024ed",
   "metadata": {},
   "source": [
    "Paragraph based chunker for confluence docs"
   ]
  },
  {
   "cell_type": "code",
   "execution_count": null,
   "id": "1e067d54",
   "metadata": {},
   "outputs": [],
   "source": [
    "import json\n",
    "import uuid"
   ]
  },
  {
   "cell_type": "code",
   "execution_count": 2,
   "id": "a4496990",
   "metadata": {},
   "outputs": [],
   "source": [
    "with open(\"confluence_docs.json\") as f:\n",
    "    docs = json.load(f)"
   ]
  },
  {
   "cell_type": "code",
   "execution_count": 3,
   "id": "60e138c2",
   "metadata": {},
   "outputs": [],
   "source": [
    "chunked_docs = []\n",
    "\n",
    "for doc in docs:\n",
    "    doc_id = str(uuid.uuid4())\n",
    "    paragraphs = [p.strip() for p in doc[\"body\"].split(\"\\n\") if p.strip()]\n",
    "    \n",
    "    for i, para in enumerate(paragraphs):\n",
    "        chunk = {\n",
    "            \"doc_id\": doc_id,\n",
    "            \"chunk_id\": f\"{doc_id}_chunk_{i}\",\n",
    "            \"title\": doc[\"title\"],\n",
    "            \"body_chunk\": para,\n",
    "            \"tags\": doc[\"tags\"],\n",
    "            \"author\": doc[\"author\"],\n",
    "            \"last_updated\": doc[\"last_updated\"]\n",
    "        }\n",
    "        chunked_docs.append(chunk)"
   ]
  },
  {
   "cell_type": "code",
   "execution_count": 4,
   "id": "40846125",
   "metadata": {},
   "outputs": [],
   "source": [
    "with open(\"rag_chunks.json\", \"w\") as f:\n",
    "    json.dump(chunked_docs, f, indent=2)"
   ]
  }
 ],
 "metadata": {
  "kernelspec": {
   "display_name": "base",
   "language": "python",
   "name": "python3"
  },
  "language_info": {
   "codemirror_mode": {
    "name": "ipython",
    "version": 3
   },
   "file_extension": ".py",
   "mimetype": "text/x-python",
   "name": "python",
   "nbconvert_exporter": "python",
   "pygments_lexer": "ipython3",
   "version": "3.12.2"
  }
 },
 "nbformat": 4,
 "nbformat_minor": 5
}
